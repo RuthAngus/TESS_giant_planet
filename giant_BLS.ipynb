{
 "cells": [
  {
   "cell_type": "markdown",
   "metadata": {},
   "source": [
    "# Example code for searching for planets in the light curves of giants."
   ]
  },
  {
   "cell_type": "code",
   "execution_count": 28,
   "metadata": {},
   "outputs": [],
   "source": [
    "import numpy as np\n",
    "import pandas as pd\n",
    "import matplotlib.pyplot as plt\n",
    "%matplotlib inline"
   ]
  },
  {
   "cell_type": "markdown",
   "metadata": {},
   "source": [
    "Load the target file."
   ]
  },
  {
   "cell_type": "code",
   "execution_count": 29,
   "metadata": {},
   "outputs": [
    {
     "data": {
      "text/html": [
       "<div>\n",
       "<style scoped>\n",
       "    .dataframe tbody tr th:only-of-type {\n",
       "        vertical-align: middle;\n",
       "    }\n",
       "\n",
       "    .dataframe tbody tr th {\n",
       "        vertical-align: top;\n",
       "    }\n",
       "\n",
       "    .dataframe thead th {\n",
       "        text-align: right;\n",
       "    }\n",
       "</style>\n",
       "<table border=\"1\" class=\"dataframe\">\n",
       "  <thead>\n",
       "    <tr style=\"text-align: right;\">\n",
       "      <th></th>\n",
       "      <th>ID</th>\n",
       "      <th>version</th>\n",
       "      <th>HIP</th>\n",
       "      <th>TYC</th>\n",
       "      <th>UCAC</th>\n",
       "      <th>TWOMASS</th>\n",
       "      <th>SDSS</th>\n",
       "      <th>ALLWISE</th>\n",
       "      <th>GAIA</th>\n",
       "      <th>APASS</th>\n",
       "      <th>...</th>\n",
       "      <th>e_RA</th>\n",
       "      <th>e_Dec</th>\n",
       "      <th>RA_orig</th>\n",
       "      <th>Dec_orig</th>\n",
       "      <th>e_RA_orig</th>\n",
       "      <th>e_Dec_orig</th>\n",
       "      <th>raddflag</th>\n",
       "      <th>wdflag</th>\n",
       "      <th>ctlPriority</th>\n",
       "      <th>objID</th>\n",
       "    </tr>\n",
       "  </thead>\n",
       "  <tbody>\n",
       "    <tr>\n",
       "      <th>0</th>\n",
       "      <td>331634865</td>\n",
       "      <td>20190415</td>\n",
       "      <td>100457.0</td>\n",
       "      <td>9315-00182-1</td>\n",
       "      <td>089-067343</td>\n",
       "      <td>20221628-7214186</td>\n",
       "      <td>NaN</td>\n",
       "      <td>J202216.27-721418.8</td>\n",
       "      <td>6.373971e+18</td>\n",
       "      <td>NaN</td>\n",
       "      <td>...</td>\n",
       "      <td>0.794980</td>\n",
       "      <td>0.832342</td>\n",
       "      <td>305.567814</td>\n",
       "      <td>-72.238597</td>\n",
       "      <td>0.018667</td>\n",
       "      <td>0.028800</td>\n",
       "      <td>1</td>\n",
       "      <td>-1</td>\n",
       "      <td>0.000691</td>\n",
       "      <td>1703737977</td>\n",
       "    </tr>\n",
       "    <tr>\n",
       "      <th>1</th>\n",
       "      <td>273514801</td>\n",
       "      <td>20190415</td>\n",
       "      <td>NaN</td>\n",
       "      <td>NaN</td>\n",
       "      <td>078-051841</td>\n",
       "      <td>23121458-7434464</td>\n",
       "      <td>NaN</td>\n",
       "      <td>J231214.60-743446.5</td>\n",
       "      <td>6.378877e+18</td>\n",
       "      <td>34531917.0</td>\n",
       "      <td>...</td>\n",
       "      <td>0.903932</td>\n",
       "      <td>0.686687</td>\n",
       "      <td>348.060841</td>\n",
       "      <td>-74.579593</td>\n",
       "      <td>0.022580</td>\n",
       "      <td>0.022787</td>\n",
       "      <td>1</td>\n",
       "      <td>-1</td>\n",
       "      <td>0.000068</td>\n",
       "      <td>1724955307</td>\n",
       "    </tr>\n",
       "    <tr>\n",
       "      <th>2</th>\n",
       "      <td>426569705</td>\n",
       "      <td>20190415</td>\n",
       "      <td>NaN</td>\n",
       "      <td>9446-00227-1</td>\n",
       "      <td>065-024616</td>\n",
       "      <td>16254528-7707037</td>\n",
       "      <td>NaN</td>\n",
       "      <td>J162545.23-770703.6</td>\n",
       "      <td>5.780489e+18</td>\n",
       "      <td>34977983.0</td>\n",
       "      <td>...</td>\n",
       "      <td>18.378037</td>\n",
       "      <td>13.629305</td>\n",
       "      <td>246.438970</td>\n",
       "      <td>-77.117738</td>\n",
       "      <td>0.018903</td>\n",
       "      <td>0.020419</td>\n",
       "      <td>1</td>\n",
       "      <td>0</td>\n",
       "      <td>0.000238</td>\n",
       "      <td>1070166816</td>\n",
       "    </tr>\n",
       "    <tr>\n",
       "      <th>3</th>\n",
       "      <td>317015729</td>\n",
       "      <td>20190415</td>\n",
       "      <td>NaN</td>\n",
       "      <td>9475-00369-1</td>\n",
       "      <td>068-036084</td>\n",
       "      <td>22222507-7627192</td>\n",
       "      <td>NaN</td>\n",
       "      <td>J222225.09-762719.1</td>\n",
       "      <td>6.357265e+18</td>\n",
       "      <td>35098727.0</td>\n",
       "      <td>...</td>\n",
       "      <td>21.926868</td>\n",
       "      <td>19.828297</td>\n",
       "      <td>335.604596</td>\n",
       "      <td>-76.455318</td>\n",
       "      <td>0.151630</td>\n",
       "      <td>0.166245</td>\n",
       "      <td>1</td>\n",
       "      <td>0</td>\n",
       "      <td>0.000457</td>\n",
       "      <td>1721234033</td>\n",
       "    </tr>\n",
       "    <tr>\n",
       "      <th>4</th>\n",
       "      <td>311106500</td>\n",
       "      <td>20190415</td>\n",
       "      <td>NaN</td>\n",
       "      <td>NaN</td>\n",
       "      <td>071-032691</td>\n",
       "      <td>17063771-7551260</td>\n",
       "      <td>NaN</td>\n",
       "      <td>J170637.70-755126.1</td>\n",
       "      <td>5.801863e+18</td>\n",
       "      <td>35004492.0</td>\n",
       "      <td>...</td>\n",
       "      <td>20.020807</td>\n",
       "      <td>15.793304</td>\n",
       "      <td>256.657307</td>\n",
       "      <td>-75.857229</td>\n",
       "      <td>0.033633</td>\n",
       "      <td>0.037108</td>\n",
       "      <td>1</td>\n",
       "      <td>0</td>\n",
       "      <td>0.000096</td>\n",
       "      <td>1176258143</td>\n",
       "    </tr>\n",
       "  </tbody>\n",
       "</table>\n",
       "<p>5 rows × 126 columns</p>\n",
       "</div>"
      ],
      "text/plain": [
       "          ID   version       HIP           TYC        UCAC           TWOMASS  \\\n",
       "0  331634865  20190415  100457.0  9315-00182-1  089-067343  20221628-7214186   \n",
       "1  273514801  20190415       NaN           NaN  078-051841  23121458-7434464   \n",
       "2  426569705  20190415       NaN  9446-00227-1  065-024616  16254528-7707037   \n",
       "3  317015729  20190415       NaN  9475-00369-1  068-036084  22222507-7627192   \n",
       "4  311106500  20190415       NaN           NaN  071-032691  17063771-7551260   \n",
       "\n",
       "   SDSS              ALLWISE          GAIA       APASS     ...           e_RA  \\\n",
       "0   NaN  J202216.27-721418.8  6.373971e+18         NaN     ...       0.794980   \n",
       "1   NaN  J231214.60-743446.5  6.378877e+18  34531917.0     ...       0.903932   \n",
       "2   NaN  J162545.23-770703.6  5.780489e+18  34977983.0     ...      18.378037   \n",
       "3   NaN  J222225.09-762719.1  6.357265e+18  35098727.0     ...      21.926868   \n",
       "4   NaN  J170637.70-755126.1  5.801863e+18  35004492.0     ...      20.020807   \n",
       "\n",
       "       e_Dec     RA_orig   Dec_orig  e_RA_orig e_Dec_orig  raddflag  wdflag  \\\n",
       "0   0.832342  305.567814 -72.238597   0.018667   0.028800         1      -1   \n",
       "1   0.686687  348.060841 -74.579593   0.022580   0.022787         1      -1   \n",
       "2  13.629305  246.438970 -77.117738   0.018903   0.020419         1       0   \n",
       "3  19.828297  335.604596 -76.455318   0.151630   0.166245         1       0   \n",
       "4  15.793304  256.657307 -75.857229   0.033633   0.037108         1       0   \n",
       "\n",
       "   ctlPriority       objID  \n",
       "0     0.000691  1703737977  \n",
       "1     0.000068  1724955307  \n",
       "2     0.000238  1070166816  \n",
       "3     0.000457  1721234033  \n",
       "4     0.000096  1176258143  \n",
       "\n",
       "[5 rows x 126 columns]"
      ]
     },
     "execution_count": 29,
     "metadata": {},
     "output_type": "execute_result"
    }
   ],
   "source": [
    "cvz = pd.read_csv(\"TICgiants_CVZ.csv\", skiprows=4)\n",
    "cvz.head()"
   ]
  },
  {
   "cell_type": "code",
   "execution_count": 30,
   "metadata": {},
   "outputs": [
    {
     "name": "stdout",
     "output_type": "stream",
     "text": [
      "ID\n",
      "version\n",
      "HIP\n",
      "TYC\n",
      "UCAC\n",
      "TWOMASS\n",
      "SDSS\n",
      "ALLWISE\n",
      "GAIA\n",
      "APASS\n",
      "KIC\n",
      "objType\n",
      "typeSrc\n",
      "ra\n",
      "dec\n",
      "POSflag\n",
      "pmRA\n",
      "e_pmRA\n",
      "pmDEC\n",
      "e_pmDEC\n",
      "PMflag\n",
      "plx\n",
      "e_plx\n",
      "PARflag\n",
      "gallong\n",
      "gallat\n",
      "eclong\n",
      "eclat\n",
      "Bmag\n",
      "e_Bmag\n",
      "Vmag\n",
      "e_Vmag\n",
      "umag\n",
      "e_umag\n",
      "gmag\n",
      "e_gmag\n",
      "rmag\n",
      "e_rmag\n",
      "imag\n",
      "e_imag\n",
      "zmag\n",
      "e_zmag\n",
      "Jmag\n",
      "e_Jmag\n",
      "Hmag\n",
      "e_Hmag\n",
      "Kmag\n",
      "e_Kmag\n",
      "TWOMflag\n",
      "prox\n",
      "w1mag\n",
      "e_w1mag\n",
      "w2mag\n",
      "e_w2mag\n",
      "w3mag\n",
      "e_w3mag\n",
      "w4mag\n",
      "e_w4mag\n",
      "GAIAmag\n",
      "e_GAIAmag\n",
      "Tmag\n",
      "e_Tmag\n",
      "TESSflag\n",
      "SPFlag\n",
      "Teff\n",
      "e_Teff\n",
      "logg\n",
      "e_logg\n",
      "MH\n",
      "e_MH\n",
      "rad\n",
      "e_rad\n",
      "mass\n",
      "e_mass\n",
      "rho\n",
      "e_rho\n",
      "lumclass\n",
      "lum\n",
      "e_lum\n",
      "d\n",
      "e_d\n",
      "ebv\n",
      "e_ebv\n",
      "numcont\n",
      "contratio\n",
      "disposition\n",
      "duplicate_id\n",
      "priority\n",
      "eneg_EBV\n",
      "epos_EBV\n",
      "EBVflag\n",
      "eneg_Mass\n",
      "epos_Mass\n",
      "eneg_Rad\n",
      "epos_Rad\n",
      "eneg_rho\n",
      "epos_rho\n",
      "eneg_logg\n",
      "epos_logg\n",
      "eneg_lum\n",
      "epos_lum\n",
      "eneg_dist\n",
      "epos_dist\n",
      "distflag\n",
      "eneg_Teff\n",
      "epos_Teff\n",
      "TeffFlag\n",
      "gaiabp\n",
      "e_gaiabp\n",
      "gaiarp\n",
      "e_gaiarp\n",
      "gaiaqflag\n",
      "starchareFlag\n",
      "VmagFlag\n",
      "BmagFlag\n",
      "splists\n",
      "e_RA\n",
      "e_Dec\n",
      "RA_orig\n",
      "Dec_orig\n",
      "e_RA_orig\n",
      "e_Dec_orig\n",
      "raddflag\n",
      "wdflag\n",
      "ctlPriority\n",
      "objID\n"
     ]
    }
   ],
   "source": [
    "for k in cvz.keys():\n",
    "    print(k)"
   ]
  },
  {
   "cell_type": "code",
   "execution_count": 25,
   "metadata": {},
   "outputs": [
    {
     "name": "stderr",
     "output_type": "stream",
     "text": [
      "/anaconda3/lib/python3.7/site-packages/numpy/lib/histograms.py:754: RuntimeWarning: invalid value encountered in greater_equal\n",
      "  keep = (tmp_a >= first_edge)\n",
      "/anaconda3/lib/python3.7/site-packages/numpy/lib/histograms.py:755: RuntimeWarning: invalid value encountered in less_equal\n",
      "  keep &= (tmp_a <= last_edge)\n"
     ]
    },
    {
     "data": {
      "image/png": "[encoded data removed]",
      "text/plain": [
       "<Figure size 432x288 with 1 Axes>"
      ]
     },
     "metadata": {
      "needs_background": "light"
     },
     "output_type": "display_data"
    }
   ],
   "source": [
    "plt.hist(cvz.GAIAmag);"
   ]
  },
  {
   "cell_type": "code",
   "execution_count": 88,
   "metadata": {},
   "outputs": [
    {
     "name": "stdout",
     "output_type": "stream",
     "text": [
      "40\n",
      "fail\n",
      "41\n",
      "fail\n",
      "42\n",
      "fail\n",
      "43\n",
      "fail\n",
      "44\n",
      "fail\n",
      "45\n",
      "fail\n",
      "46\n",
      "fail\n",
      "47\n",
      "fail\n",
      "48\n",
      "fail\n",
      "49\n",
      "fail\n"
     ]
    }
   ],
   "source": [
    "import eleanor\n",
    "\n",
    "# star = eleanor.multi_sectors(tic=38846515, sectors=[1, 2, 3], tc=True)\n",
    "# star = eleanor.multi_sectors(tic=cvz.ID.values[0], sectors=[1, 2, 3], tc=True)\n",
    "# print(cvz.ID.values[0])\n",
    "for i in range(40, 50):\n",
    "    print(i)\n",
    "    try:\n",
    "        star = eleanor.Source(tic=cvz.ID.values[i], sector=1, tc=True)\n",
    "    except:\n",
    "        print(\"fail\")\n",
    "        \n",
    "# star = eleanor.Source(tic=cvz.ID.values[25], sector=1, tc=True)"
   ]
  },
  {
   "cell_type": "code",
   "execution_count": 61,
   "metadata": {},
   "outputs": [
    {
     "name": "stderr",
     "output_type": "stream",
     "text": [
      "100%|██████████| 1282/1282 [00:09<00:00, 138.80it/s]\n"
     ]
    }
   ],
   "source": [
    "data = eleanor.TargetData(star, height=15, width=15, bkg_size=31, do_psf=True, do_pca=True)"
   ]
  },
  {
   "cell_type": "code",
   "execution_count": 62,
   "metadata": {},
   "outputs": [
    {
     "data": {
      "text/plain": [
       "Text(0.5, 0, 'Time')"
      ]
     },
     "execution_count": 62,
     "metadata": {},
     "output_type": "execute_result"
    },
    {
     "data": {
      "image/png": "[encoded data removed]",
      "text/plain": [
       "<Figure size 1080x360 with 1 Axes>"
      ]
     },
     "metadata": {
      "needs_background": "light"
     },
     "output_type": "display_data"
    }
   ],
   "source": [
    "plt.figure(figsize=(15,5))\n",
    "\n",
    "q = data.quality == 0\n",
    "\n",
    "plt.plot(data.time[q], data.raw_flux[q]/np.median(data.raw_flux[q])-0.01, 'k', label=\"Raw\")\n",
    "plt.plot(data.time[q], data.corr_flux[q]/np.median(data.corr_flux[q]) + 0.01, 'r', label=\"Corr\")\n",
    "plt.plot(data.time[q], data.psf_flux[q]/np.median(data.psf_flux[q]) + 0.05, 'b', label=\"PSF\")\n",
    "\n",
    "plt.legend()\n",
    "plt.ylabel('Normalized Flux')\n",
    "plt.xlabel('Time')"
   ]
  },
  {
   "cell_type": "code",
   "execution_count": 63,
   "metadata": {},
   "outputs": [
    {
     "data": {
      "text/plain": [
       "[<matplotlib.lines.Line2D at 0x1c3f3a4358>]"
      ]
     },
     "execution_count": 63,
     "metadata": {},
     "output_type": "execute_result"
    },
    {
     "data": {
      "image/png": "[encoded data removed]",
      "text/plain": [
       "<Figure size 432x288 with 1 Axes>"
      ]
     },
     "metadata": {
      "needs_background": "light"
     },
     "output_type": "display_data"
    }
   ],
   "source": [
    "plt.plot(data.time[q], data.psf_flux[q]/np.median(data.psf_flux[q]) + 0.05, label=\"PSF\")"
   ]
  },
  {
   "cell_type": "code",
   "execution_count": null,
   "metadata": {},
   "outputs": [],
   "source": []
  },
  {
   "cell_type": "code",
   "execution_count": 58,
   "metadata": {},
   "outputs": [
    {
     "name": "stderr",
     "output_type": "stream",
     "text": [
      "WARNING: AstropyDeprecationWarning: Importing LombScargle from astropy.stats has been deprecated and will no longer be supported in future. Please import this class from the astropy.timeseries module instead [astropy.stats.lombscargle]\n"
     ]
    },
    {
     "data": {
      "text/plain": [
       "(-0.1, 1.5)"
      ]
     },
     "execution_count": 58,
     "metadata": {},
     "output_type": "execute_result"
    },
    {
     "data": {
      "image/png": "[encoded data removed]",
      "text/plain": [
       "<Figure size 432x288 with 1 Axes>"
      ]
     },
     "metadata": {
      "needs_background": "light"
     },
     "output_type": "display_data"
    }
   ],
   "source": [
    "import astropy.stats as ass\n",
    "\n",
    "def perday_to_uHz(freq_perday):\n",
    "    return freq_perday/24/3600 * 1e6\n",
    "\n",
    "def uHz_to_perday(freq_uHz):\n",
    "    return (freq_uHz * 1e-6)*24*3600\n",
    "\n",
    "freq = np.linspace(1./15, 1./.01, 100000)\n",
    "# freq = np.linspace(uHz_to_perday(283), uHz_to_perday(1000), 100000)\n",
    "ps = 1./freq\n",
    "\n",
    "time = data.time[q]\n",
    "flux = data.psf_flux[q]/np.median(data.psf_flux[q])\n",
    "flux_err = np.ones_like(flux) * 1e-5\n",
    "\n",
    "power = ass.LombScargle(time, flux, flux_err).power(freq)\n",
    "plt.plot(freq/24/3600 * 1e6, power)\n",
    "plt.xlabel(\"Frequency [uHz]\")\n",
    "plt.ylabel(\"Power\")\n",
    "# plt.xlim(200, 1000)\n",
    "plt.ylim(-.1, 1.5)"
   ]
  },
  {
   "cell_type": "code",
   "execution_count": 92,
   "metadata": {},
   "outputs": [
    {
     "data": {
      "image/png": "[encoded data removed]",
      "text/plain": [
       "<Figure size 720x360 with 1 Axes>"
      ]
     },
     "metadata": {
      "needs_background": "light"
     },
     "output_type": "display_data"
    }
   ],
   "source": [
    "from astropy.stats import BoxLeastSquares\n",
    "\n",
    "model = BoxLeastSquares(time, flux)\n",
    "results = model.autopower(0.16)\n",
    "period = results.period[np.argmax(results.power)]\n",
    "\n",
    "fig, ax = plt.subplots(1, 1, figsize=(10, 5))\n",
    "ax.plot(results.period, results.power, \"k\", lw=0.5)\n",
    "ax.set_xlim(results.period.min(), results.period.max())\n",
    "ax.set_xlabel(\"period [days]\")\n",
    "ax.set_ylabel(\"log likelihood\")\n",
    "\n",
    "# Highlight the harmonics of the peak period\n",
    "ax.axvline(period, alpha=0.4, lw=4)\n",
    "for n in range(2, 10):\n",
    "    ax.axvline(n*period, alpha=0.4, lw=1, linestyle=\"dashed\")\n",
    "    ax.axvline(period / n, alpha=0.4, lw=1, linestyle=\"dashed\")"
   ]
  },
  {
   "cell_type": "code",
   "execution_count": null,
   "metadata": {},
   "outputs": [],
   "source": []
  }
 ],
 "metadata": {
  "kernelspec": {
   "display_name": "Python 3",
   "language": "python",
   "name": "python3"
  },
  "language_info": {
   "codemirror_mode": {
    "name": "ipython",
    "version": 3
   },
   "file_extension": ".py",
   "mimetype": "text/x-python",
   "name": "python",
   "nbconvert_exporter": "python",
   "pygments_lexer": "ipython3",
   "version": "3.7.1"
  }
 },
 "nbformat": 4,
 "nbformat_minor": 2
}
